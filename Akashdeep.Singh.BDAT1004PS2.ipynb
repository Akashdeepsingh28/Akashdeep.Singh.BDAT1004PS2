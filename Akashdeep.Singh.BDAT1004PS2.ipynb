{
 "cells": [
  {
   "cell_type": "markdown",
   "id": "46ffbfc0-b350-441c-aacb-cc6cfd69981a",
   "metadata": {},
   "source": [
    "# Problem Set 2"
   ]
  },
  {
   "cell_type": "markdown",
   "id": "ad4de2f4-9531-430a-b92a-cf37ec6fa3fe",
   "metadata": {},
   "source": [
    "## Question 1"
   ]
  },
  {
   "cell_type": "markdown",
   "id": "871ae3f9-4f80-4503-8ebf-671c8cb1343b",
   "metadata": {},
   "source": [
    "Consider the following Python module:\n",
    "\n",
    "What value is displayed when the last expression (a) is evaluated? Explain your answer by indicating what happens in every executed statement."
   ]
  },
  {
   "cell_type": "code",
   "execution_count": 8,
   "id": "c518a2ce-25e5-4049-808b-3107dc057eee",
   "metadata": {},
   "outputs": [
    {
     "data": {
      "text/plain": [
       "6"
      ]
     },
     "execution_count": 8,
     "metadata": {},
     "output_type": "execute_result"
    }
   ],
   "source": [
    "a = 0\n",
    "\n",
    "def b():\n",
    "    global a\n",
    "    a = c(a)\n",
    "\n",
    "def c(a):\n",
    "    return a + 2\n",
    "\n",
    "b()\n",
    "b()\n",
    "b()\n",
    "a"
   ]
  },
  {
   "cell_type": "markdown",
   "id": "59e8f4c4-268a-40b4-bf17-cdc3d7df9d56",
   "metadata": {},
   "source": [
    "## Answer 1"
   ]
  },
  {
   "cell_type": "markdown",
   "id": "dad9a174-5a35-456e-b8fb-486d4e33e8f4",
   "metadata": {},
   "source": [
    "Explaination\n",
    "\n",
    "a = 0 which means at first a is set to 0\n",
    "\n",
    "b() uses global keyword which indicates that it modifies the global variable 'a'. Inside this function 'a' is set to execute c().\n",
    "\n",
    "c() takes argument of 'a' and returns the value 'a + 2'.\n",
    "\n",
    "First call of b(), a variable 'a' is accessed.The current value of a (which is 0) is passed to the function c. The function executes '0 + 2' and returns '2'.The global variable is updated to 2.\n",
    "\n",
    "Now this b() is executes 2 times more, so second call of b() updates global variable to 4 and on third time it updates to 6.\n",
    "\n",
    "Finally, when a is executes, it prints its value that is 6"
   ]
  },
  {
   "cell_type": "markdown",
   "id": "eab95cbd-3022-400b-9ef2-aa78664a6e80",
   "metadata": {},
   "source": [
    "## Question 2"
   ]
  },
  {
   "cell_type": "markdown",
   "id": "eea667bf-8ca6-47a2-99af-3f53711744bf",
   "metadata": {},
   "source": [
    "Function fileLength(), given to you, takes the name of a file as input and returns the length of the file:\n",
    "\n",
    "if the file cannot be found by the interpreter or if it cannot be read as a text file, an exception will be raised. Modify function fileLength() so that a friendly message is printed instead:"
   ]
  },
  {
   "cell_type": "markdown",
   "id": "3ecafd04-8fd7-4af5-bff5-46d89392dc51",
   "metadata": {},
   "source": [
    "## Answer 2"
   ]
  },
  {
   "cell_type": "code",
   "execution_count": 9,
   "id": "c986148e-2993-43d3-81a2-04b6400b9b71",
   "metadata": {},
   "outputs": [
    {
     "name": "stdout",
     "output_type": "stream",
     "text": [
      "123\n",
      "This File NonFileLength.txt not found.Maybe you should check the typos in the name of the file \n"
     ]
    }
   ],
   "source": [
    "def fileLength(input_file):\n",
    "    try:\n",
    "        with open(input_file, 'r') as file:\n",
    "            content = file.read()\n",
    "            return len(content)\n",
    "    except FileNotFoundError:\n",
    "        return f\"This File {input_file} not found.Maybe you should check the typos in the name of the file \"\n",
    "\n",
    "print(fileLength('FileLength.txt'))\n",
    "print(fileLength('NonFileLength.txt'))\n"
   ]
  },
  {
   "cell_type": "markdown",
   "id": "0f3ed782-df18-44f3-b526-aa393d5dd9bd",
   "metadata": {},
   "source": [
    "## Question 3"
   ]
  },
  {
   "cell_type": "markdown",
   "id": "015d1089-d64a-426d-97d4-a4476da0f3fb",
   "metadata": {},
   "source": [
    "Write a class named Marsupial that can be used as shown below:\n",
    "\n",
    "m = Marsupial()\n",
    "\n",
    "m.put_in_pouch('doll')\n",
    "\n",
    "m.put_in_pouch('firetruck')\n",
    "\n",
    "m.put_in_pouch('kitten')\n",
    "\n",
    "m.pouch_contents()\n",
    "\n",
    "['doll', 'firetruck', 'kitten']\n",
    "\n",
    "Now write a class named Kangaroo as a subclass of Marsupial that inherits all the attributes of Marsupial and also:\n",
    "\n",
    "a. extends the Marsupial __init__ constructor to take, as input, the coordinates x and y of the Kangaroo object,\n",
    "\n",
    "b. supports method jump that takes number values dx and dy as input and moves the kangaroo by dx units along the x-axis and by dy units along the y-axis, and\n",
    "\n",
    "c. overloads the __str__ operator so it behaves as shown below."
   ]
  },
  {
   "cell_type": "markdown",
   "id": "d37e9581-863c-419a-b499-cf49ee163590",
   "metadata": {},
   "source": [
    "## Answer 3"
   ]
  },
  {
   "cell_type": "code",
   "execution_count": 10,
   "id": "d1933e29-ece0-42b3-944b-e0ef6a2a60d4",
   "metadata": {},
   "outputs": [
    {
     "name": "stdout",
     "output_type": "stream",
     "text": [
      "['doll', 'firetruck', 'kitten']\n",
      "I am a Kangaroo located at coordinates (0,0)\n",
      "['doll', 'firetruck', 'kitten']\n",
      "I am a Kangaroo located at coordinates (3,0)\n"
     ]
    }
   ],
   "source": [
    "class Marsupial:\n",
    "    def __init__(self):\n",
    "        self.pouch = []            #Creates a empty list to store items\n",
    "    \n",
    "    def put_in_pouch(self, item):\n",
    "        self.pouch.append(item)     # This adds items to the list pouch\n",
    "    \n",
    "    def pouch_contents(self):\n",
    "        return self.pouch           # This shows the contents of the pouch\n",
    "\n",
    "class Kangaroo(Marsupial):          # Inheritance\n",
    "    def __init__(self, x, y):\n",
    "        super().__init__()          # Superclass instructor, initialise pouch then initialise x and y\n",
    "        self.x = x\n",
    "        self.y = y\n",
    "    \n",
    "    def jump(self, dx, dy):\n",
    "        self.x += dx                # Adding input values to the original values\n",
    "        self.y += dy\n",
    "    \n",
    "    def __str__(self):              # This method returns human-readable string, if we use simple print() then indicates computer memory address of the Kangaroo location\n",
    "        return f'I am a Kangaroo located at coordinates ({self.x},{self.y})'\n",
    "\n",
    "m = Marsupial()\n",
    "m.put_in_pouch('doll')\n",
    "m.put_in_pouch('firetruck')\n",
    "m.put_in_pouch('kitten')\n",
    "print(m.pouch_contents())\n",
    "\n",
    "k = Kangaroo(0,0)\n",
    "print(k)\n",
    "\n",
    "k.put_in_pouch('doll')\n",
    "k.put_in_pouch('firetruck')\n",
    "k.put_in_pouch('kitten')\n",
    "print(k.pouch_contents())\n",
    "\n",
    "k.jump(1,0)\n",
    "k.jump(1,0)\n",
    "k.jump(1,0)\n",
    "print(k)"
   ]
  },
  {
   "cell_type": "markdown",
   "id": "1327a67b-5876-4f1d-9d78-79c7321143a9",
   "metadata": {},
   "source": [
    "## Question 4"
   ]
  },
  {
   "cell_type": "markdown",
   "id": "7e223bdd-3033-49e8-b4f5-0ad52e500be0",
   "metadata": {},
   "source": [
    "Write function collatz() that takes a positive integer x as input and prints the Collatz sequence starting at x. A Collatz sequence is obtained by repeatedly applying this rule to the previous number x in the sequence:\n",
    "\n",
    "x = { 𝑥/2 if x is even ; 3x + 1 if x is odd}\n",
    "        \n",
    "Your function should stop when the sequence gets to number 1. Your implementation must be recursive, without any loops."
   ]
  },
  {
   "cell_type": "markdown",
   "id": "fa1267aa-a179-4e40-9c34-abb9a1591cec",
   "metadata": {},
   "source": [
    "## Answer 4"
   ]
  },
  {
   "cell_type": "code",
   "execution_count": 12,
   "id": "c3d14424-0fac-4cb2-b215-c44b409692a8",
   "metadata": {},
   "outputs": [
    {
     "name": "stdout",
     "output_type": "stream",
     "text": [
      "1\n",
      "None\n",
      "10\n",
      "5\n",
      "16\n",
      "8\n",
      "4\n",
      "2\n",
      "1\n",
      "None\n"
     ]
    }
   ],
   "source": [
    "def collatz(x):\n",
    "    print(x)\n",
    "    if x == 1:            # The condition which stopes the recursion is when x is equal to 1\n",
    "        return\n",
    "    elif x % 2 == 0:      # if x is not 1 and this condition satisfies, then this will executes otherwise it will jump to else statement \n",
    "        collatz(x // 2)   # recursive function\n",
    "    else:\n",
    "        collatz(3 * x + 1)\n",
    "\n",
    "print(collatz(1))\n",
    "print(collatz(10))"
   ]
  },
  {
   "cell_type": "markdown",
   "id": "f40aa210-effc-4f71-b746-de17ee6038f9",
   "metadata": {},
   "source": [
    "## Question 5"
   ]
  },
  {
   "cell_type": "markdown",
   "id": "a76a125d-09c7-41bd-9e68-86d9ed5ac33d",
   "metadata": {},
   "source": [
    "Write a recursive method binary() that takes a non-negative integer n and prints the binary representation of integer n."
   ]
  },
  {
   "cell_type": "markdown",
   "id": "cdd0fa6a-f4cb-4fe5-aac2-17c023828dd0",
   "metadata": {},
   "source": [
    "## Answer 5"
   ]
  },
  {
   "cell_type": "code",
   "execution_count": 13,
   "id": "f2f6590a-cfba-4ee5-b64e-a646d1196c6f",
   "metadata": {},
   "outputs": [
    {
     "name": "stdout",
     "output_type": "stream",
     "text": [
      "1\n",
      "1001\n"
     ]
    }
   ],
   "source": [
    "def binary(n):\n",
    "    if n == 1:\n",
    "        print(n, end='')        # using end='' to add result in previous outcome\n",
    "    else:\n",
    "        binary(n // 2)          # recursive function\n",
    "        print(n % 2, end='')    \n",
    "\n",
    "binary(1)\n",
    "print()           # For a new line \n",
    "binary(9)\n",
    "print()"
   ]
  },
  {
   "cell_type": "markdown",
   "id": "ddcfc1ea-ed1f-47a3-a975-4277e014aeb9",
   "metadata": {},
   "source": [
    "## Question 6"
   ]
  },
  {
   "cell_type": "markdown",
   "id": "90d6326d-7f2a-4b21-a932-2e550a3074b5",
   "metadata": {},
   "source": [
    "Implement a class named HeadingParser that can be used to parse an HTML document, and retrieve and print all the headings in the document. You should implement your class as a subclass of HTMLParser, defined in Standard Library module html.parser. When fed a string containing HTML code, your class should print the headings, one per line and in the order in which they appear in the document. Each heading should be indented as follows: an h1 heading should have indentation 0, and h2 heading should have indentation 1, etc. Test your implementation using w3c.html."
   ]
  },
  {
   "cell_type": "markdown",
   "id": "daef1f13-45fd-4871-b9fb-0a1c9647f997",
   "metadata": {},
   "source": [
    "## Answer 6"
   ]
  },
  {
   "cell_type": "code",
   "execution_count": 1,
   "id": "a8002a76-a565-443b-a21b-57ceae1fa71e",
   "metadata": {},
   "outputs": [
    {
     "name": "stdout",
     "output_type": "stream",
     "text": [
      " W3C Mission\n",
      "  Principles\n"
     ]
    }
   ],
   "source": [
    "from html.parser import HTMLParser                 # Importing HTMLParser class\n",
    "\n",
    "class HeadingParser(HTMLParser):                   # This class inherits from HTMLParser class\n",
    "    def __init__(self):                            # Initialization the parser\n",
    "        super().__init__()\n",
    "        self.in_heading = False                    #  to check whether we are inside <h> tag or not\n",
    "\n",
    "    def handle_starttag(self, tag, attrs):         # This method executes when we reach to the tag\n",
    "        if tag.startswith('h') and len(tag) == 2:  # This checks that our tag startes with 'h' and has lenght 2 means 'h' with any number\n",
    "            self.in_heading = True\n",
    "            self.level = int(tag[1])               # take the heading level from tag\n",
    "\n",
    "    def handle_endtag(self, tag):                  # To check when we reached to end tag </h>\n",
    "        if tag.startswith('h') and len(tag) == 2:\n",
    "            self.in_heading = False\n",
    "\n",
    "    def handle_data(self, data):                   # This is used to handle the text of an tag\n",
    "        if self.in_heading:\n",
    "            print(' ' * self.level + data)         # Print the text correspond to that heading level with indentation\n",
    "\n",
    "# These are for opening, reading and closing of file\n",
    "infile = open('w3c.html')\n",
    "content = infile.read()\n",
    "infile.close()\n",
    "\n",
    "hp = HeadingParser()                  # Creating instance of a class\n",
    "hp.feed(content)"
   ]
  },
  {
   "cell_type": "markdown",
   "id": "00e3fe14-08f7-43f5-beb4-9566cb6f46af",
   "metadata": {},
   "source": [
    "## Question 7"
   ]
  },
  {
   "cell_type": "markdown",
   "id": "8ef7b0f2-e9d4-44a6-a601-23594a115eea",
   "metadata": {},
   "source": [
    "Implement recursive function webdir() that takes as input: a URL (as a string) and non-negative integers depth and indent. Your function should visit every web page reachable from the starting URL web page in depth clicks or less, and print each web page's URL. As shown below, indentation, specified by indent, should be used to indicate the depth of a URL."
   ]
  },
  {
   "cell_type": "markdown",
   "id": "406a3e70-4d51-4b52-bd26-0b0cea51a765",
   "metadata": {},
   "source": [
    "## Answer 7"
   ]
  },
  {
   "cell_type": "code",
   "execution_count": 15,
   "id": "6f4cf831-618b-4322-83d3-1640e8c6dd1f",
   "metadata": {},
   "outputs": [
    {
     "name": "stdout",
     "output_type": "stream",
     "text": [
      "http://reed.cs.depaul.edu/lperkovic/csc242/test1.html\n"
     ]
    }
   ],
   "source": [
    "import requests\n",
    "from bs4 import BeautifulSoup                      # Library used to  extract data from web pages\n",
    "\n",
    "def webdir(start_url, max_depth, indent_level):    # indent level: no. of spaces to indent\n",
    "    if max_depth < 0:                              # suppose if this set to 2 then function will follow links upto 2 levels deep\n",
    "        return                                     # if max_depth < 0 then function return to stop further recursion\n",
    "    \n",
    "    print(' ' * indent_level + start_url)                         # prints current URL with indentation\n",
    "    \n",
    "    try:\n",
    "        response = requests.get(start_url)                         # send http get request\n",
    "        html_content = response.text                               # extract html content\n",
    "        soup = BeautifulSoup(html_content, 'html.parser')\n",
    "        all_links = soup.find_all('a')                             # find all anchor tags (<a>)\n",
    "        \n",
    "        for link in all_links:\n",
    "            href = link.get('href')                                # reference from pyhton doc 'https://docs.python.org/3/library/stdtypes.html#str.startswith'\n",
    "            if href and href.startswith('http'):\n",
    "                webdir(href, max_depth - 1, indent_level + 4)      # recursively calls new URL, decreased depth and increased indentation\n",
    "    except Exception as e:\n",
    "        print(f\"Failed to access {start_url}: {e}. Might be error in typing\")\n",
    "\n",
    "webdir('http://reed.cs.depaul.edu/lperkovic/csc242/test1.html', 2, 0)    # calling function"
   ]
  },
  {
   "cell_type": "markdown",
   "id": "090539d7-de17-4901-bf29-04666a3e9d9e",
   "metadata": {},
   "source": [
    "## Question 8"
   ]
  },
  {
   "cell_type": "markdown",
   "id": "3c072248-a0f5-40c6-876b-e42f97de3387",
   "metadata": {},
   "source": [
    "Write SQL queries on the below database table that return:\n",
    "\n",
    "a) All the temperature data.\n",
    "    \n",
    "b) All the cities, but without repetition.\n",
    "    \n",
    "c) All the records for India.\n",
    "                  \n",
    "d) All the Fall records.\n",
    "\n",
    "e) The city, country, and season for which the average rainfall is between 200 and 400 millimeters.\n",
    "    \n",
    "f) The city and country for which the average Fall temperature is above 20 degrees, in increasing temperature order.\n",
    "    \n",
    "g) The total annual rainfall for Cairo.\n",
    "\n",
    "h) The total rainfall for each season."
   ]
  },
  {
   "cell_type": "markdown",
   "id": "ec41fdbc-fe20-4735-ba1d-e1ca1437a9ab",
   "metadata": {},
   "source": [
    "## Answer 8"
   ]
  },
  {
   "cell_type": "code",
   "execution_count": null,
   "id": "a77fc539-545f-4a5f-b01d-2662bacc6be3",
   "metadata": {},
   "outputs": [],
   "source": [
    "# I am using PostgreSQL syntax to perform below SQL queries\n",
    "a)\n",
    "SELECT Temperature (C)\n",
    "FROM table\n",
    "\n",
    "b)\n",
    "SELECT DISTINCT City\n",
    "FROM table\n",
    "\n",
    "c)\n",
    "SELECT *\n",
    "FROM table\n",
    "WHERE Country = India\n",
    "\n",
    "d)\n",
    "SELECT *\n",
    "FROM table\n",
    "WHERE Season = 'Fall'\n",
    "\n",
    "e)\n",
    "SELECT City, Country, Season\n",
    "FROM table\n",
    "GROUP BY City, Country, Season\n",
    "HAVING AVG(\"Rainfall (mm)\") BETWEEN 200 AND 400\n",
    "\n",
    "f)\n",
    "SELECT City, Country\n",
    "FROM table\n",
    "WHERE Season = 'Fall'\n",
    "GROUP BY City, Country\n",
    "HAVING AVG(\"Temperature (C)\") > 20\n",
    "ORDER BY AVG(\"Temperature (C)\")\n",
    "\n",
    "g)\n",
    "SELECT City, SUM(\"Rainfall (mm)\") AS TotalAnnualRainfall\n",
    "FROM table\n",
    "WHERE City = 'Cairo'\n",
    "GROUP BY City\n",
    "\n",
    "h)\n",
    "SELECT Season, SUM(\"Rainfall (mm)\") AS TotalRainfall\n",
    "FROM table\n",
    "GROUP BY Season"
   ]
  },
  {
   "cell_type": "markdown",
   "id": "79740aff-66d9-4924-8871-e1080cbb0cb0",
   "metadata": {},
   "source": [
    "## Question 9"
   ]
  },
  {
   "cell_type": "markdown",
   "id": "beb6975b-a5ce-443e-8cee-f7a83ed706ac",
   "metadata": {},
   "source": [
    "Suppose list words is defined as follows:\n",
    "\n",
    "words = ['The', 'quick', 'brown', 'fox', 'jumps', 'over', 'the', 'lazy', 'dog']\n",
    "\n",
    "Write list comprehension expressions that use list words and generate the following lists:\n",
    "\n",
    "a) ['THE', 'QUICK', 'BROWN', 'FOX', 'JUMPS', 'OVER', 'THE', 'LAZY', 'DOG']\n",
    "\n",
    "b) ['the', 'quick', 'brown', 'fox', 'jumps', 'over', 'the', 'lazy', 'dog']\n",
    "\n",
    "c) [3, 5, 5, 3, 5, 4, 3, 4, 3] (the list of lengths of words in list words).\n",
    "\n",
    "d) [['THE', 'the', 3], ['QUICK', 'quick', 5], ['BROWN', 'brown', 5], ['FOX', 'fox', 3], ['JUMPS', 'jumps', 5], ['OVER', 'over', 4], ['THE', 'the', 3], ['LAZY', 'lazy', 4], ['DOG', 'dog', 3]] (the list containing a list for every word of list words, where each list contains the word in uppercase and lowercase and the length of the word.)\n",
    "\n",
    "e) ['The', 'quick', 'brown', 'fox', 'jumps', 'over', 'the', 'lazy', 'dog'] (the list of words in list words containing 4 or more characters.)"
   ]
  },
  {
   "cell_type": "markdown",
   "id": "7cd32c2d-1cf3-42bd-b298-4ec160b93599",
   "metadata": {},
   "source": [
    "## Answer 9"
   ]
  },
  {
   "cell_type": "code",
   "execution_count": 17,
   "id": "ccfb96ac-6856-406f-b114-5aa2273064f1",
   "metadata": {},
   "outputs": [
    {
     "name": "stdout",
     "output_type": "stream",
     "text": [
      "['THE', 'QUICK', 'BROWN', 'FOX', 'JUMPS', 'OVER', 'THE', 'LAZY', 'DOG']\n",
      "['the', 'quick', 'brown', 'fox', 'jumps', 'over', 'the', 'lazy', 'dog']\n",
      "[3, 5, 5, 3, 5, 4, 3, 4, 3]\n",
      "[['THE', 'the', 3], ['QUICK', 'quick', 5], ['BROWN', 'brown', 5], ['FOX', 'fox', 3], ['JUMPS', 'jumps', 5], ['OVER', 'over', 4], ['THE', 'the', 3], ['LAZY', 'lazy', 4], ['DOG', 'dog', 3]]\n",
      "['quick', 'brown', 'jumps', 'over', 'lazy']\n"
     ]
    }
   ],
   "source": [
    "words = ['The', 'quick', 'brown', 'fox', 'jumps', 'over', 'the', 'lazy', 'dog']\n",
    "\n",
    "# syntax eg: new_list = [new_item for item in list if test]\n",
    "# This means code written in new_item will only work if the test or condition is satisfied\n",
    "\n",
    "All_capital = [word.upper() for word in words]          # upper() to make word uppercase\n",
    "print(All_capital)\n",
    "\n",
    "all_lower = [word.lower() for word in words]            # lower() to make word lowercase\n",
    "print(all_lower)\n",
    "\n",
    "lengths_count = [len(word) for word in words]           # len() to count the words\n",
    "print(lengths_count)\n",
    "\n",
    "abc_combine = [[word.upper(), word.lower(), len(word)] for word in words]\n",
    "print(abc_combine)\n",
    "\n",
    "more_than_4_words = [word for word in words if len(word) >= 4]\n",
    "print(more_than_4_words)"
   ]
  }
 ],
 "metadata": {
  "kernelspec": {
   "display_name": "Python 3 (ipykernel)",
   "language": "python",
   "name": "python3"
  },
  "language_info": {
   "codemirror_mode": {
    "name": "ipython",
    "version": 3
   },
   "file_extension": ".py",
   "mimetype": "text/x-python",
   "name": "python",
   "nbconvert_exporter": "python",
   "pygments_lexer": "ipython3",
   "version": "3.11.7"
  }
 },
 "nbformat": 4,
 "nbformat_minor": 5
}
